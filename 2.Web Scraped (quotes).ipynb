{
 "cells": [
  {
   "cell_type": "code",
   "execution_count": 0,
   "metadata": {
    "application/vnd.databricks.v1+cell": {
     "cellMetadata": {
      "byteLimit": 2048000,
      "rowLimit": 10000
     },
     "inputWidgets": {},
     "nuid": "495f2b03-f683-4992-843a-2f1a178d6d5f",
     "showTitle": false,
     "title": ""
    }
   },
   "outputs": [
    {
     "output_type": "stream",
     "name": "stdout",
     "output_type": "stream",
     "text": [
      "“The world as we have created it is a process of our thinking. It cannot be changed without changing our thinking.”-Albert Einstein\n“It is our choices, Harry, that show what we truly are, far more than our abilities.”-J.K. Rowling\n“There are only two ways to live your life. One is as though nothing is a miracle. The other is as though everything is a miracle.”-Albert Einstein\n“The person, be it gentleman or lady, who has not pleasure in a good novel, must be intolerably stupid.”-Jane Austen\n“Imperfection is beauty, madness is genius and it's better to be absolutely ridiculous than absolutely boring.”-Marilyn Monroe\n“Try not to become a man of success. Rather become a man of value.”-Albert Einstein\n“It is better to be hated for what you are than to be loved for what you are not.”-André Gide\n“I have not failed. I've just found 10,000 ways that won't work.”-Thomas A. Edison\n“A woman is like a tea bag; you never know how strong it is until it's in hot water.”-Eleanor Roosevelt\n“A day without sunshine is like, you know, night.”-Steve Martin\n"
     ]
    }
   ],
   "source": [
    "#IMPORT LIBRARIESLIBRARIES\n",
    "from bs4 import BeautifulSoup\n",
    "import requests\n",
    "\n",
    "page_to_scrape = requests.get(\"http://quotes.toscrape.com\")\n",
    "#USE BEAUTIFULSOUP TO PARSE THE HTML AND STORE IT AS A VARIABLE\n",
    "soup = BeautifulSoup(page_to_scrape.text, 'html.parser')\n",
    "\n",
    "quotes = soup.findAll('span', attrs={'class':'text'})\n",
    "\n",
    "authors = soup.findAll('small', attrs={\"class\":\"author\"})\n",
    "#LOOP THROUGH BOTH LISTS USING THE 'ZIP' FUNCTION\n",
    "#AND PRINT AND FORMAT THE RESULTS\n",
    "for quote, author in zip(quotes, authors):\n",
    "    print(quote.text + \"-\" + author.text)\n"
   ]
  },
  {
   "cell_type": "code",
   "execution_count": 0,
   "metadata": {
    "application/vnd.databricks.v1+cell": {
     "cellMetadata": {
      "byteLimit": 2048000,
      "rowLimit": 10000
     },
     "inputWidgets": {},
     "nuid": "2b7635a7-79e6-48c5-afa4-8794dc6bb859",
     "showTitle": false,
     "title": ""
    }
   },
   "outputs": [
    {
     "output_type": "stream",
     "name": "stdout",
     "output_type": "stream",
     "text": [
      "Python interpreter will be restarted.\nRequirement already satisfied: snowflake in /local_disk0/.ephemeral_nfs/envs/pythonEnv-9cfb95a4-3b43-4060-a151-a3010d41daa8/lib/python3.9/site-packages (0.6.0)\nRequirement already satisfied: snowflake-core==0.6.0 in /local_disk0/.ephemeral_nfs/envs/pythonEnv-9cfb95a4-3b43-4060-a151-a3010d41daa8/lib/python3.9/site-packages (from snowflake) (0.6.0)\nRequirement already satisfied: snowflake-legacy in /local_disk0/.ephemeral_nfs/envs/pythonEnv-9cfb95a4-3b43-4060-a151-a3010d41daa8/lib/python3.9/site-packages (from snowflake) (0.5.0)\nRequirement already satisfied: python-dateutil>=2.8.2 in /databricks/python3/lib/python3.9/site-packages (from snowflake-core==0.6.0->snowflake) (2.8.2)\nRequirement already satisfied: pydantic>=1.10.7 in /local_disk0/.ephemeral_nfs/envs/pythonEnv-9cfb95a4-3b43-4060-a151-a3010d41daa8/lib/python3.9/site-packages (from snowflake-core==0.6.0->snowflake) (2.6.4)\nRequirement already satisfied: urllib3 in /databricks/python3/lib/python3.9/site-packages (from snowflake-core==0.6.0->snowflake) (1.26.9)\nRequirement already satisfied: snowflake-snowpark-python<2.0.0,>=1.5.0 in /local_disk0/.ephemeral_nfs/envs/pythonEnv-9cfb95a4-3b43-4060-a151-a3010d41daa8/lib/python3.9/site-packages (from snowflake-core==0.6.0->snowflake) (1.13.0)\nRequirement already satisfied: atpublic>=4 in /local_disk0/.ephemeral_nfs/envs/pythonEnv-9cfb95a4-3b43-4060-a151-a3010d41daa8/lib/python3.9/site-packages (from snowflake-core==0.6.0->snowflake) (4.0)\nRequirement already satisfied: annotated-types>=0.4.0 in /local_disk0/.ephemeral_nfs/envs/pythonEnv-9cfb95a4-3b43-4060-a151-a3010d41daa8/lib/python3.9/site-packages (from pydantic>=1.10.7->snowflake-core==0.6.0->snowflake) (0.6.0)\nRequirement already satisfied: typing-extensions>=4.6.1 in /local_disk0/.ephemeral_nfs/envs/pythonEnv-9cfb95a4-3b43-4060-a151-a3010d41daa8/lib/python3.9/site-packages (from pydantic>=1.10.7->snowflake-core==0.6.0->snowflake) (4.10.0)\nRequirement already satisfied: pydantic-core==2.16.3 in /local_disk0/.ephemeral_nfs/envs/pythonEnv-9cfb95a4-3b43-4060-a151-a3010d41daa8/lib/python3.9/site-packages (from pydantic>=1.10.7->snowflake-core==0.6.0->snowflake) (2.16.3)\nRequirement already satisfied: six>=1.5 in /databricks/python3/lib/python3.9/site-packages (from python-dateutil>=2.8.2->snowflake-core==0.6.0->snowflake) (1.16.0)\nRequirement already satisfied: wheel in /databricks/python3/lib/python3.9/site-packages (from snowflake-snowpark-python<2.0.0,>=1.5.0->snowflake-core==0.6.0->snowflake) (0.37.0)\nRequirement already satisfied: setuptools>=40.6.0 in /databricks/python3/lib/python3.9/site-packages (from snowflake-snowpark-python<2.0.0,>=1.5.0->snowflake-core==0.6.0->snowflake) (61.2.0)\nRequirement already satisfied: cloudpickle!=2.1.0,!=2.2.0,<=2.2.1,>=1.6.0 in /local_disk0/.ephemeral_nfs/envs/pythonEnv-9cfb95a4-3b43-4060-a151-a3010d41daa8/lib/python3.9/site-packages (from snowflake-snowpark-python<2.0.0,>=1.5.0->snowflake-core==0.6.0->snowflake) (2.2.1)\nRequirement already satisfied: snowflake-connector-python<4.0.0,>=3.6.0 in /local_disk0/.ephemeral_nfs/envs/pythonEnv-9cfb95a4-3b43-4060-a151-a3010d41daa8/lib/python3.9/site-packages (from snowflake-snowpark-python<2.0.0,>=1.5.0->snowflake-core==0.6.0->snowflake) (3.7.1)\nRequirement already satisfied: pyyaml in /local_disk0/.ephemeral_nfs/envs/pythonEnv-9cfb95a4-3b43-4060-a151-a3010d41daa8/lib/python3.9/site-packages (from snowflake-snowpark-python<2.0.0,>=1.5.0->snowflake-core==0.6.0->snowflake) (6.0.1)\nRequirement already satisfied: asn1crypto<2.0.0,>0.24.0 in /local_disk0/.ephemeral_nfs/envs/pythonEnv-9cfb95a4-3b43-4060-a151-a3010d41daa8/lib/python3.9/site-packages (from snowflake-connector-python<4.0.0,>=3.6.0->snowflake-snowpark-python<2.0.0,>=1.5.0->snowflake-core==0.6.0->snowflake) (1.5.1)\nRequirement already satisfied: pyjwt<3.0.0 in /local_disk0/.ephemeral_nfs/envs/pythonEnv-9cfb95a4-3b43-4060-a151-a3010d41daa8/lib/python3.9/site-packages (from snowflake-connector-python<4.0.0,>=3.6.0->snowflake-snowpark-python<2.0.0,>=1.5.0->snowflake-core==0.6.0->snowflake) (2.8.0)\nRequirement already satisfied: platformdirs<4.0.0,>=2.6.0 in /usr/local/lib/python3.9/dist-packages (from snowflake-connector-python<4.0.0,>=3.6.0->snowflake-snowpark-python<2.0.0,>=1.5.0->snowflake-core==0.6.0->snowflake) (2.6.2)\nRequirement already satisfied: pyOpenSSL<25.0.0,>=16.2.0 in /local_disk0/.ephemeral_nfs/envs/pythonEnv-9cfb95a4-3b43-4060-a151-a3010d41daa8/lib/python3.9/site-packages (from snowflake-connector-python<4.0.0,>=3.6.0->snowflake-snowpark-python<2.0.0,>=1.5.0->snowflake-core==0.6.0->snowflake) (24.1.0)\nRequirement already satisfied: filelock<4,>=3.5 in /usr/local/lib/python3.9/dist-packages (from snowflake-connector-python<4.0.0,>=3.6.0->snowflake-snowpark-python<2.0.0,>=1.5.0->snowflake-core==0.6.0->snowflake) (3.9.0)\nRequirement already satisfied: tomlkit in /local_disk0/.ephemeral_nfs/envs/pythonEnv-9cfb95a4-3b43-4060-a151-a3010d41daa8/lib/python3.9/site-packages (from snowflake-connector-python<4.0.0,>=3.6.0->snowflake-snowpark-python<2.0.0,>=1.5.0->snowflake-core==0.6.0->snowflake) (0.12.4)\nRequirement already satisfied: cryptography<43.0.0,>=3.1.0 in /local_disk0/.ephemeral_nfs/envs/pythonEnv-9cfb95a4-3b43-4060-a151-a3010d41daa8/lib/python3.9/site-packages (from snowflake-connector-python<4.0.0,>=3.6.0->snowflake-snowpark-python<2.0.0,>=1.5.0->snowflake-core==0.6.0->snowflake) (42.0.5)\nRequirement already satisfied: charset-normalizer<4,>=2 in /databricks/python3/lib/python3.9/site-packages (from snowflake-connector-python<4.0.0,>=3.6.0->snowflake-snowpark-python<2.0.0,>=1.5.0->snowflake-core==0.6.0->snowflake) (2.0.4)\nRequirement already satisfied: pytz in /databricks/python3/lib/python3.9/site-packages (from snowflake-connector-python<4.0.0,>=3.6.0->snowflake-snowpark-python<2.0.0,>=1.5.0->snowflake-core==0.6.0->snowflake) (2021.3)\nRequirement already satisfied: certifi>=2017.4.17 in /databricks/python3/lib/python3.9/site-packages (from snowflake-connector-python<4.0.0,>=3.6.0->snowflake-snowpark-python<2.0.0,>=1.5.0->snowflake-core==0.6.0->snowflake) (2021.10.8)\nRequirement already satisfied: idna<4,>=2.5 in /databricks/python3/lib/python3.9/site-packages (from snowflake-connector-python<4.0.0,>=3.6.0->snowflake-snowpark-python<2.0.0,>=1.5.0->snowflake-core==0.6.0->snowflake) (3.3)\nRequirement already satisfied: packaging in /databricks/python3/lib/python3.9/site-packages (from snowflake-connector-python<4.0.0,>=3.6.0->snowflake-snowpark-python<2.0.0,>=1.5.0->snowflake-core==0.6.0->snowflake) (21.3)\nRequirement already satisfied: cffi<2.0.0,>=1.9 in /databricks/python3/lib/python3.9/site-packages (from snowflake-connector-python<4.0.0,>=3.6.0->snowflake-snowpark-python<2.0.0,>=1.5.0->snowflake-core==0.6.0->snowflake) (1.15.0)\nRequirement already satisfied: sortedcontainers>=2.4.0 in /local_disk0/.ephemeral_nfs/envs/pythonEnv-9cfb95a4-3b43-4060-a151-a3010d41daa8/lib/python3.9/site-packages (from snowflake-connector-python<4.0.0,>=3.6.0->snowflake-snowpark-python<2.0.0,>=1.5.0->snowflake-core==0.6.0->snowflake) (2.4.0)\nRequirement already satisfied: requests<3.0.0 in /databricks/python3/lib/python3.9/site-packages (from snowflake-connector-python<4.0.0,>=3.6.0->snowflake-snowpark-python<2.0.0,>=1.5.0->snowflake-core==0.6.0->snowflake) (2.27.1)\nRequirement already satisfied: pycparser in /databricks/python3/lib/python3.9/site-packages (from cffi<2.0.0,>=1.9->snowflake-connector-python<4.0.0,>=3.6.0->snowflake-snowpark-python<2.0.0,>=1.5.0->snowflake-core==0.6.0->snowflake) (2.21)\nRequirement already satisfied: pyparsing!=3.0.5,>=2.0.2 in /databricks/python3/lib/python3.9/site-packages (from packaging->snowflake-connector-python<4.0.0,>=3.6.0->snowflake-snowpark-python<2.0.0,>=1.5.0->snowflake-core==0.6.0->snowflake) (3.0.4)\nPython interpreter will be restarted.\nPython interpreter will be restarted.\nRequirement already satisfied: snowflake-connector-python in /local_disk0/.ephemeral_nfs/envs/pythonEnv-9cfb95a4-3b43-4060-a151-a3010d41daa8/lib/python3.9/site-packages (3.7.1)\nRequirement already satisfied: asn1crypto<2.0.0,>0.24.0 in /local_disk0/.ephemeral_nfs/envs/pythonEnv-9cfb95a4-3b43-4060-a151-a3010d41daa8/lib/python3.9/site-packages (from snowflake-connector-python) (1.5.1)\nRequirement already satisfied: pyjwt<3.0.0 in /local_disk0/.ephemeral_nfs/envs/pythonEnv-9cfb95a4-3b43-4060-a151-a3010d41daa8/lib/python3.9/site-packages (from snowflake-connector-python) (2.8.0)\nRequirement already satisfied: platformdirs<4.0.0,>=2.6.0 in /usr/local/lib/python3.9/dist-packages (from snowflake-connector-python) (2.6.2)\nRequirement already satisfied: pyOpenSSL<25.0.0,>=16.2.0 in /local_disk0/.ephemeral_nfs/envs/pythonEnv-9cfb95a4-3b43-4060-a151-a3010d41daa8/lib/python3.9/site-packages (from snowflake-connector-python) (24.1.0)\nRequirement already satisfied: filelock<4,>=3.5 in /usr/local/lib/python3.9/dist-packages (from snowflake-connector-python) (3.9.0)\nRequirement already satisfied: tomlkit in /local_disk0/.ephemeral_nfs/envs/pythonEnv-9cfb95a4-3b43-4060-a151-a3010d41daa8/lib/python3.9/site-packages (from snowflake-connector-python) (0.12.4)\nRequirement already satisfied: cryptography<43.0.0,>=3.1.0 in /local_disk0/.ephemeral_nfs/envs/pythonEnv-9cfb95a4-3b43-4060-a151-a3010d41daa8/lib/python3.9/site-packages (from snowflake-connector-python) (42.0.5)\nRequirement already satisfied: charset-normalizer<4,>=2 in /databricks/python3/lib/python3.9/site-packages (from snowflake-connector-python) (2.0.4)\nRequirement already satisfied: pytz in /databricks/python3/lib/python3.9/site-packages (from snowflake-connector-python) (2021.3)\nRequirement already satisfied: certifi>=2017.4.17 in /databricks/python3/lib/python3.9/site-packages (from snowflake-connector-python) (2021.10.8)\nRequirement already satisfied: urllib3<2.0.0,>=1.21.1 in /databricks/python3/lib/python3.9/site-packages (from snowflake-connector-python) (1.26.9)\nRequirement already satisfied: idna<4,>=2.5 in /databricks/python3/lib/python3.9/site-packages (from snowflake-connector-python) (3.3)\nRequirement already satisfied: packaging in /databricks/python3/lib/python3.9/site-packages (from snowflake-connector-python) (21.3)\nRequirement already satisfied: typing-extensions<5,>=4.3 in /local_disk0/.ephemeral_nfs/envs/pythonEnv-9cfb95a4-3b43-4060-a151-a3010d41daa8/lib/python3.9/site-packages (from snowflake-connector-python) (4.10.0)\nRequirement already satisfied: cffi<2.0.0,>=1.9 in /databricks/python3/lib/python3.9/site-packages (from snowflake-connector-python) (1.15.0)\nRequirement already satisfied: sortedcontainers>=2.4.0 in /local_disk0/.ephemeral_nfs/envs/pythonEnv-9cfb95a4-3b43-4060-a151-a3010d41daa8/lib/python3.9/site-packages (from snowflake-connector-python) (2.4.0)\nRequirement already satisfied: requests<3.0.0 in /databricks/python3/lib/python3.9/site-packages (from snowflake-connector-python) (2.27.1)\nRequirement already satisfied: pycparser in /databricks/python3/lib/python3.9/site-packages (from cffi<2.0.0,>=1.9->snowflake-connector-python) (2.21)\nRequirement already satisfied: pyparsing!=3.0.5,>=2.0.2 in /databricks/python3/lib/python3.9/site-packages (from packaging->snowflake-connector-python) (3.0.4)\nPython interpreter will be restarted.\n"
     ]
    }
   ],
   "source": [
    "#IMPORT LIBRARIES\n",
    "%pip install snowflake\n",
    "%pip install snowflake-connector-python\n",
    "#IMPORT LIBRARIES\n",
    "from bs4 import BeautifulSoup\n",
    "import requests\n",
    "import snowflake.connector\n",
    "\n",
    "# Snowflake connection parameters\n",
    "account = 'My Account'\n",
    "user = 'My User Name'\n",
    "password = 'My Password'\n",
    "warehouse = 'My Warehouse Name'\n",
    "database = 'My Database Name'\n",
    "schema = 'My Schema Name'\n",
    "table_name = 'My Table Name'  # Table name without '.csv' suffix\n",
    "\n",
    "# Snowflake URL\n",
    "snowflake_url = ''\n",
    "\n",
    "# Connect to Snowflake\n",
    "conn = snowflake.connector.connect(\n",
    "    user=user,\n",
    "    password=password,\n",
    "    account=account,\n",
    "    warehouse=warehouse,\n",
    "    database=database,\n",
    "    schema=schema,\n",
    ")\n",
    "\n",
    "# Create a cursor object\n",
    "cur = conn.cursor()\n",
    "\n",
    "# Ensure quotes table exists\n",
    "cur.execute(f\"CREATE TABLE IF NOT EXISTS {schema}.{table_name} (quote STRING, author STRING)\")\n",
    "\n",
    "# REQUEST WEBPAGE AND STORE IT AS A VARIABLE\n",
    "page_to_scrape = requests.get(\"http://quotes.toscrape.com\")\n",
    "# USE BEAUTIFULSOUP TO PARSE THE HTML AND STORE IT AS A VARIABLE\n",
    "soup = BeautifulSoup(page_to_scrape.text, 'html.parser')\n",
    "# FIND ALL THE ITEMS IN THE PAGE WITH A CLASS ATTRIBUTE OF 'TEXT'\n",
    "# AND STORE THE LIST AS A VARIABLE\n",
    "quotes = soup.findAll('span', attrs={'class':'text'})\n",
    "# FIND ALL THE ITEMS IN THE PAGE WITH A CLASS ATTRIBUTE OF 'AUTHOR'\n",
    "# AND STORE THE LIST AS A VARIABLE\n",
    "authors = soup.findAll('small', attrs={\"class\":\"author\"})\n",
    "\n",
    "# LOOP THROUGH BOTH LISTS USING THE 'ZIP' FUNCTION\n",
    "# AND INSERT THE DATA INTO THE SNOWFLAKE TABLE\n",
    "for quote, author in zip(quotes, authors):\n",
    "    quote_text = quote.text\n",
    "    author_name = author.text\n",
    "    sql = f\"INSERT INTO {schema}.{table_name} (quote, author) VALUES (%s, %s)\"\n",
    "    cur.execute(sql, (quote_text, author_name))\n",
    "\n",
    "# COMMIT THE TRANSACTION\n",
    "conn.commit()\n",
    "\n",
    "# CLOSE THE CURSOR AND CONNECTION\n",
    "cur.close()\n",
    "conn.close()\n"
   ]
  }
 ],
 "metadata": {
  "application/vnd.databricks.v1+notebook": {
   "dashboards": [],
   "language": "python",
   "notebookMetadata": {
    "pythonIndentUnit": 4
   },
   "notebookName": "2.Web Scraped (quotes)",
   "widgets": {}
  }
 },
 "nbformat": 4,
 "nbformat_minor": 0
}
